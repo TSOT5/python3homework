{
 "cells": [
  {
   "cell_type": "code",
   "execution_count": null,
   "id": "b5b65cf6",
   "metadata": {},
   "outputs": [],
   "source": [
    "import math\n",
    "\n",
    "def rof():\n",
    "    L = float(input(\"What is the length \"))\n",
    "    W = float(input(\"What is the width \"))\n",
    "    A = L * W\n",
    "    print(A, \"Is the area\")\n",
    "\n",
    "def cc():\n",
    "    tcc = float(input(\"What is the radius? \"))\n",
    "    tcc = 2 * math.pi * tcc\n",
    "    print(tcc, \"Is the circumference\")"
   ]
  }
 ],
 "metadata": {
  "kernelspec": {
   "display_name": "Python 3 (ipykernel)",
   "language": "python",
   "name": "python3"
  },
  "language_info": {
   "codemirror_mode": {
    "name": "ipython",
    "version": 3
   },
   "file_extension": ".py",
   "mimetype": "text/x-python",
   "name": "python",
   "nbconvert_exporter": "python",
   "pygments_lexer": "ipython3",
   "version": "3.11.5"
  }
 },
 "nbformat": 4,
 "nbformat_minor": 5
}
